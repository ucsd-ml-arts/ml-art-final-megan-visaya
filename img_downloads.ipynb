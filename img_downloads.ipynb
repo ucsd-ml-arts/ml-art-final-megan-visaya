{
 "cells": [
  {
   "cell_type": "code",
   "execution_count": 1,
   "metadata": {},
   "outputs": [],
   "source": [
    "from google_images_download import google_images_download\n"
   ]
  },
  {
   "cell_type": "code",
   "execution_count": 12,
   "metadata": {},
   "outputs": [],
   "source": [
    "response = google_images_download.googleimagesdownload()"
   ]
  },
  {
   "cell_type": "code",
   "execution_count": null,
   "metadata": {},
   "outputs": [],
   "source": [
    "#list of used keywords:\n",
    "#creating list of argument #hd supernovas (nasa)\n",
    "#hd cell staining, bug nebula images, messier 17 images, roberts 22 nebula images, microscope skin cells high res,\n",
    "#microscope brain cells high res, \n",
    "#antennae galaxies high res, embryonic cells high res microscope\n",
    "#ngc 5307 nasa hubble images"
   ]
  },
  {
   "cell_type": "code",
   "execution_count": 79,
   "metadata": {},
   "outputs": [
    {
     "name": "stdout",
     "output_type": "stream",
     "text": [
      "\n",
      "Item no.: 1 --> Item name = ngc 5307 nasa hubble images\n",
      "Evaluating...\n",
      "Starting Download...\n",
      "Completed Image ====> 1.opo0733e.jpg\n",
      "Completed Image ====> 2.opo9738h.jpg\n",
      "Completed Image ====> 3.print.jpg\n",
      "Completed Image ====> 4.print.jpg\n",
      "Completed Image ====> 5.opo9738b.jpg\n",
      "Completed Image ====> 6.32ae7aa41785ba0f312d396541c31e1f.jpg\n",
      "Completed Image ====> 7.ngc5307hst2007.jpg\n",
      "Completed Image ====> 8.694329f4d835138ab95dcb8e64687a46.jpg\n",
      "Completed Image ====> 9.https%3A%2F%2Fblogs-images.forbes.com%2Fstartswithabang%2Ffiles%2F2016%2F03%2FPillars_of_creation_2014_HST_WFC3-UVIS_full-res_denoised.jpg\n",
      "Completed Image ====> 10.potw1739a.jpg\n",
      "Completed Image ====> 11.low_bw_print.jpg\n",
      "Completed Image ====> 12.1*Y-U7Pj5UC0btV2zGrf7TeA.jpeg\n",
      "Completed Image ====> 13.300px-NGC_5189.png\n",
      "Completed Image ====> 14.Boomerang-Nebula-the-hubble-telescope-22811354-1456-1351.jpg\n",
      "Completed Image ====> 15.https%3A%2F%2Fblogs-images.forbes.com%2Fstartswithabang%2Ffiles%2F2016%2F12%2Fhs-2004-32-d-print-1200x1203.jpg\n",
      "Completed Image ====> 16.28bc558311a61e1f62d811575e648547.jpg\n",
      "Completed Image ====> 17.this-picture-taken-by-the-nasaesa-hubble-space-telescopes-wide-field-KRH7A7.jpg\n",
      "Completed Image ====> 18.opo9738n.jpg\n",
      "Completed Image ====> 19.low_print.jpg\n",
      "Completed Image ====> 20.LagoonNebulaHeartNASA.jpg\n",
      "Completed Image ====> 21.https%3A%2F%2Fblogs-images.forbes.com%2Fstartswithabang%2Ffiles%2F2016%2F12%2Fhs-2002-25-a-full_jpg-1200x1200.jpg\n",
      "Completed Image ====> 22.astronomers-using-nasas-hubble-space-telescope-obtained-images-of-GE4J6K.jpg\n",
      "Completed Image ====> 23.139c77f39c23b1200d2ffe5ddc03b215.jpg\n",
      "Completed Image ====> 24.1200px-Hubble_Interacting_Galaxy_NGC_5257_%282008-04-24%29.jpg\n",
      "Completed Image ====> 25.Earth-and-Space_p96.jpg\n",
      "Completed Image ====> 26.opo9811c.jpg\n",
      "Completed Image ====> 27.potw1922a.jpg\n",
      "Completed Image ====> 28.maxresdefault.jpg\n",
      "Completed Image ====> 29.11812b71fd8b1d6ec75273df79e43878--space-photos-photos-of.jpg\n",
      "Completed Image ====> 30.1200px-A_dwarf_galaxy_ravaged_by_grand_design.jpg\n",
      "Completed Image ====> 31.nebulae-Ant-Nebula.jpg\n",
      "Invalid or missing image format. Skipping...\n",
      "Completed Image ====> 32.gxc-s01354.jpg\n",
      "Completed Image ====> 33.LMC-N-63A-the-hubble-telescope-22811478-867-658.jpg\n",
      "Completed Image ====> 34.heic1715a.jpg\n",
      "Completed Image ====> 35.nebulae-NGC-6302.jpg\n",
      "Completed Image ====> 36.A_galaxy_on_the_edge.jpg\n",
      "Completed Image ====> 37.48002858608_3ed0cd11b6_z.jpg\n",
      "Completed Image ====> 38.1546264b48f5986527cb5df13edc5b13.jpg\n",
      "Completed Image ====> 39.ngc5307hfAladin.jpg\n",
      "Completed Image ====> 40.https%3A%2F%2Fblogs-images.forbes.com%2Fstartswithabang%2Ffiles%2F2016%2F12%2Fstar_loss.jpg\n",
      "Completed Image ====> 41.NGC_5315HSTfull.jpg\n",
      "Completed Image ====> 42.STSCI-H-p1741a-f-1365x1458.png\n",
      "Completed Image ====> 43.1200px-Messier_87_Hubble_WikiSky.jpg\n",
      "Completed Image ====> 44.this-image-from-nasas-hubble-space-telescope-and-its-wide-field-and-GE4G1P.jpg\n",
      "Completed Image ====> 45.maxresdefault.jpg\n",
      "Completed Image ====> 46.low_STSCI-H-p1820a-k-1340x520.png\n",
      "Completed Image ====> 47.potw1746a.jpg\n",
      "Completed Image ====> 48.potw1738a.jpg\n",
      "Invalid or missing image format. Skipping...\n",
      "Completed Image ====> 49.slide_39.jpg\n",
      "Completed Image ====> 50.https%3A%2F%2Fblogs-images.forbes.com%2Fstartswithabang%2Ffiles%2F2017%2F01%2FJWST_art.jpg\n",
      "Completed Image ====> 51.ngc5307wfAladin.jpg\n",
      "Invalid or missing image format. Skipping...\n",
      "Completed Image ====> 52.nebulae-NGC-2346.jpg\n",
      "URLError on an image...trying next one... Error: HTTP Error 400: Bad Request\n",
      "Completed Image ====> 53.planetary-nebula-ngc-5307-XB95EA.jpg\n",
      "Completed Image ====> 54.STSCI-H-p1924a-f4000x1552.jpg\n",
      "Completed Image ====> 55.NGC7742.jpg\n",
      "Completed Image ====> 56.ab5f268fd732ad0b23dd3a154533512c--universe-images-hubble-space-telescope.jpg\n",
      "Completed Image ====> 57.48002872823_3d2b0e619c_z.jpg\n",
      "Completed Image ====> 58.2007-1003hubble.thumbnail-2.jpg\n",
      "Completed Image ====> 59.n1236eso.jpg\n",
      "Completed Image ====> 60.low_STScI-H-p1825a-k1340x520.png\n",
      "Completed Image ====> 61.Saturn-1998-the-hubble-telescope-22811580-1191-764.jpg\n",
      "Completed Image ====> 62.gxc-s02618.jpg\n",
      "Completed Image ====> 63.https%3A%2F%2Fblogs-images.forbes.com%2Fstartswithabang%2Ffiles%2F2016%2F12%2Fhs-2009-05-a-xlarge_web-1200x679.jpg\n",
      "Completed Image ====> 64.ngc5306wide.jpg\n",
      "Completed Image ====> 65.ngc3132.jpg\n",
      "Completed Image ====> 66.8_gravitational_lens_abel-2218_1280px.jpg\n",
      "Completed Image ====> 67.hqdefault.jpg\n",
      "Completed Image ====> 68.crl2688.jpg\n",
      "Completed Image ====> 69.potw1922a.jpg\n",
      "Completed Image ====> 70.low_STSCI-H-g-1822b-k1340x520.png\n",
      "Completed Image ====> 71.1280px-Messier51_sRGB.jpg\n",
      "Completed Image ====> 72.star-cluster-pismis-24-upper-centre-above-the-nebula-ngc-6357-hubble-space-telescope-image-X8N33W.jpg\n",
      "Completed Image ====> 73.2007-0911hubble.thumbnail-2-1280x720.jpg\n",
      "Invalid or missing image format. Skipping...\n",
      "Completed Image ====> 74.n0504.jpg\n",
      "Completed Image ====> 75.i0733aw.jpg\n",
      "Completed Image ====> 76.maxresdefault.jpg\n",
      "Completed Image ====> 77.The-Hubble-Telescope-image-the-hubble-telescope-36122602-1920-1080.png\n",
      "Completed Image ====> 78.low_STSCI-H-p1901a-k-1340x520.png\n",
      "Completed Image ====> 79.Collage%20Nasa%20.jpg\n",
      "Completed Image ====> 80.DuzEvGmUYAAo1xB.jpg\n",
      "Completed Image ====> 81.tumblr_np26onjPls1qdj66eo1_500.jpg\n",
      "Completed Image ====> 82.nebulae-cats-eye-nebula-NGC-6543.jpg\n",
      "Completed Image ====> 83.heic1715b.jpg\n",
      "Completed Image ====> 84.220px-M51_Nucleus_ACS_WFC_F555W.png\n",
      "Invalid or missing image format. Skipping...\n",
      "Completed Image ====> 85.n0605acx.jpg\n",
      "Completed Image ====> 86.gxc-s02603.jpg\n",
      "Completed Image ====> 87.hubblevarneb_hst_big.jpg\n",
      "Completed Image ====> 88.NGC_5466_Hubble_WikiSky.jpg\n",
      "Completed Image ====> 89.Aiming+the+Hubble+Telescope.jpg\n",
      "Completed Image ====> 90.maxresdefault.jpg\n",
      "Completed Image ====> 91.STScI-H-p1738a-f4500x3600.png\n",
      "Completed Image ====> 92.n3242b.jpg\n",
      "Completed Image ====> 93.catspaw_noao_big.jpg\n",
      "Completed Image ====> 94.image.gif\n",
      "\n",
      "\n",
      "Unfortunately all 100 could not be downloaded because some images were not downloadable. 94 is all we got for this search filter!\n",
      "\n",
      "Errors: 6\n",
      "\n"
     ]
    }
   ],
   "source": [
    "arguments = {\"keywords\":\"ngc 5307 nasa hubble images\",\"limit\":100,\"related_images\":False}   \n",
    "paths = response.download(arguments)   #passing the arguments to the function"
   ]
  },
  {
   "cell_type": "code",
   "execution_count": 43,
   "metadata": {},
   "outputs": [],
   "source": [
    "import os\n",
    "def show_filecount(path):\n",
    "    path, dirs, files = next(os.walk(path));\n",
    "    return len(files);"
   ]
  },
  {
   "cell_type": "code",
   "execution_count": 73,
   "metadata": {},
   "outputs": [],
   "source": [
    "cell_path=\"./downloads/cleared_cells\";\n",
    "space_path=\"./downloads/cleared_space\";"
   ]
  },
  {
   "cell_type": "code",
   "execution_count": 80,
   "metadata": {
    "scrolled": true
   },
   "outputs": [
    {
     "data": {
      "text/plain": [
       "1028"
      ]
     },
     "execution_count": 80,
     "metadata": {},
     "output_type": "execute_result"
    }
   ],
   "source": [
    "show_filecount(cell_path)+show_filecount(space_path)"
   ]
  },
  {
   "cell_type": "code",
   "execution_count": 81,
   "metadata": {},
   "outputs": [
    {
     "data": {
      "text/plain": [
       "491"
      ]
     },
     "execution_count": 81,
     "metadata": {},
     "output_type": "execute_result"
    }
   ],
   "source": [
    "show_filecount(space_path)"
   ]
  },
  {
   "cell_type": "code",
   "execution_count": 82,
   "metadata": {},
   "outputs": [
    {
     "data": {
      "text/plain": [
       "537"
      ]
     },
     "execution_count": 82,
     "metadata": {},
     "output_type": "execute_result"
    }
   ],
   "source": [
    "show_filecount(cell_path)"
   ]
  },
  {
   "cell_type": "code",
   "execution_count": null,
   "metadata": {},
   "outputs": [],
   "source": []
  }
 ],
 "metadata": {
  "kernelspec": {
   "display_name": "Python 3",
   "language": "python",
   "name": "python3"
  },
  "language_info": {
   "codemirror_mode": {
    "name": "ipython",
    "version": 3
   },
   "file_extension": ".py",
   "mimetype": "text/x-python",
   "name": "python",
   "nbconvert_exporter": "python",
   "pygments_lexer": "ipython3",
   "version": "3.5.2"
  }
 },
 "nbformat": 4,
 "nbformat_minor": 2
}
